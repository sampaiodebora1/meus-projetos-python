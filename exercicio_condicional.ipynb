{
  "nbformat": 4,
  "nbformat_minor": 0,
  "metadata": {
    "colab": {
      "provenance": [],
      "authorship_tag": "ABX9TyOYjME8GEmkvXHwwEmvkxtO",
      "include_colab_link": true
    },
    "kernelspec": {
      "name": "python3",
      "display_name": "Python 3"
    },
    "language_info": {
      "name": "python"
    }
  },
  "cells": [
    {
      "cell_type": "markdown",
      "metadata": {
        "id": "view-in-github",
        "colab_type": "text"
      },
      "source": [
        "<a href=\"https://colab.research.google.com/github/sampaiodebora1/meus-projetos-python/blob/main/exercicio_condicional.ipynb\" target=\"_parent\"><img src=\"https://colab.research.google.com/assets/colab-badge.svg\" alt=\"Open In Colab\"/></a>"
      ]
    },
    {
      "cell_type": "code",
      "execution_count": 2,
      "metadata": {
        "colab": {
          "base_uri": "https://localhost:8080/"
        },
        "id": "-8KJqgcegnAA",
        "outputId": "1e7e0147-fc4f-4487-c148-84c014547cdb"
      },
      "outputs": [
        {
          "output_type": "stream",
          "name": "stdout",
          "text": [
            "nome = Fabricio Daniel\n",
            "idade = 15 anos\n",
            "media do semestre = 5\n",
            "situação de aprovação = reprovado\n"
          ]
        }
      ],
      "source": [
        "nome= \"Fabricio Daniel\"\n",
        "Idade = \"15 anos\"\n",
        "Media_do_semestre = 5\n",
        "\n",
        "\n",
        "if Media_do_semestre >= 7 :\n",
        "    situação =\"aprovado\"\n",
        "else:\n",
        "    situação = \"reprovado\"\n",
        "print(f\"nome = {nome}\")\n",
        "print(f\"idade = {Idade}\")\n",
        "print(f\"media do semestre = {Media_do_semestre}\")\n",
        "print(f\"situação de aprovação = {situação}\")"
      ]
    }
  ]
}